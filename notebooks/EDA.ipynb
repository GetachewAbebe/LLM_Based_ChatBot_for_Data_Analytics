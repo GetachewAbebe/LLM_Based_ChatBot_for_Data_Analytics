{
 "cells": [
  {
   "cell_type": "code",
   "execution_count": null,
   "metadata": {},
   "outputs": [
    {
     "name": "stdout",
     "output_type": "stream",
     "text": [
      "         Date                                 Cities    City name  Views\n",
      "0  2020-06-28  0x164b85cef5ab402d:0x8467b6b037a24d49  Addis Ababa      0\n",
      "1  2020-06-29  0x164b85cef5ab402d:0x8467b6b037a24d49  Addis Ababa      0\n",
      "2  2020-06-30  0x164b85cef5ab402d:0x8467b6b037a24d49  Addis Ababa      0\n",
      "3  2020-07-01  0x164b85cef5ab402d:0x8467b6b037a24d49  Addis Ababa      0\n",
      "4  2020-07-02  0x164b85cef5ab402d:0x8467b6b037a24d49  Addis Ababa      0\n"
     ]
    },
    {
     "name": "stderr",
     "output_type": "stream",
     "text": [
      "/tmp/ipykernel_93100/2467903973.py:19: UserWarning: pandas only supports SQLAlchemy connectable (engine/connection) or database string URI or sqlite3 DBAPI2 connection. Other DBAPI2 objects are not tested. Please consider using SQLAlchemy.\n",
      "  return pd.read_sql(query, connection)\n"
     ]
    }
   ],
   "source": [
    "import psycopg2\n",
    "import pandas as pd\n",
    "import os\n",
    "# Create connection function\n",
    "def create_connection():\n",
    "    connection = psycopg2.connect(\n",
    "        dbname=os.getenv(\"POSTGRES_DATABASE\"),\n",
    "        user=os.getenv(\"POSTGRES_USERNAME\"),\n",
    "        password=os.getenv(\"POSTGRES_PASSWORD\"),\n",
    "        host=os.getenv(\"POSTGRES_HOST\"),\n",
    "        port=os.getenv(\"POSTGRES_PORT\")\n",
    "    )\n",
    "    return connection\n",
    "# Fetch data function\n",
    "def fetch_table_data(connection, table_name):\n",
    "    query = f\"SELECT * FROM {table_name} LIMIT 10\"  # Limit is for quick preview\n",
    "    return pd.read_sql(query, connection)\n",
    "# Create connection\n",
    "connection = create_connection()\n",
    "# Example: Fetching data from a table (replace 'your_table_name' with actual table name)\n",
    "table_name = 'cities_chart_data'  # Change this to the table you want to explore\n",
    "data = fetch_table_data(connection, table_name)\n",
    "# Display first few rows of the data\n",
    "print(data.head())\n",
    "# Close connection\n",
    "connection.close()"
   ]
  }
 ],
 "metadata": {
  "kernelspec": {
   "display_name": "myenv",
   "language": "python",
   "name": "python3"
  },
  "language_info": {
   "codemirror_mode": {
    "name": "ipython",
    "version": 3
   },
   "file_extension": ".py",
   "mimetype": "text/x-python",
   "name": "python",
   "nbconvert_exporter": "python",
   "pygments_lexer": "ipython3",
   "version": "3.12.7"
  }
 },
 "nbformat": 4,
 "nbformat_minor": 2
}
