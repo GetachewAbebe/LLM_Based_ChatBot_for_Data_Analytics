{
 "cells": [
  {
   "cell_type": "code",
   "execution_count": 3,
   "metadata": {},
   "outputs": [],
   "source": [
    "import psycopg2\n",
    "import pandas as pd\n",
    "import os"
   ]
  },
  {
   "cell_type": "code",
   "execution_count": 4,
   "metadata": {},
   "outputs": [],
   "source": [
    "# Create connection function\n",
    "def create_connection():\n",
    "    connection = psycopg2.connect(\n",
    "        dbname=os.getenv(\"POSTGRES_DATABASE\"),\n",
    "        user=os.getenv(\"POSTGRES_USERNAME\"),\n",
    "        password=os.getenv(\"POSTGRES_PASSWORD\"),\n",
    "        host=os.getenv(\"POSTGRES_HOST\"),\n",
    "        port=os.getenv(\"POSTGRES_PORT\")\n",
    "    )\n",
    "    return connection"
   ]
  },
  {
   "cell_type": "code",
   "execution_count": 5,
   "metadata": {},
   "outputs": [
    {
     "name": "stdout",
     "output_type": "stream",
     "text": [
      "                              table_name\n",
      "0                content_type_chart_data\n",
      "1              traffic_source_chart_data\n",
      "2                 device_type_table_data\n",
      "3            operating_system_table_data\n",
      "4                      totals_table_data\n",
      "5                content_type_table_data\n",
      "6              traffic_source_table_data\n",
      "7            subtitles_and_cc_chart_data\n",
      "8         subscription_status_chart_data\n",
      "9                   geography_chart_data\n",
      "10                  geography_table_data\n",
      "11        subscription_source_chart_data\n",
      "12           subtitles_and_cc_table_data\n",
      "13        subscription_status_table_data\n",
      "14         viewership_by_date_table_data\n",
      "15        subscription_source_table_data\n",
      "16            sharing_service_chart_data\n",
      "17  new_and_returning_viewers_chart_data\n",
      "18                     cities_chart_data\n",
      "19              viewer_gender_table_data\n",
      "20            sharing_service_table_data\n",
      "21  new_and_returning_viewers_table_data\n",
      "22                     cities_table_data\n",
      "23                device_type_chart_data\n",
      "24           operating_system_chart_data\n",
      "25                 viewer_age_table_data\n"
     ]
    },
    {
     "name": "stderr",
     "output_type": "stream",
     "text": [
      "/tmp/ipykernel_93100/3514902096.py:4: UserWarning: pandas only supports SQLAlchemy connectable (engine/connection) or database string URI or sqlite3 DBAPI2 connection. Other DBAPI2 objects are not tested. Please consider using SQLAlchemy.\n",
      "  return pd.read_sql(query, connection)\n"
     ]
    }
   ],
   "source": [
    "# Fetch all table names\n",
    "def fetch_all_table_names(connection):\n",
    "    query = \"SELECT table_name FROM information_schema.tables WHERE table_schema = 'public';\"\n",
    "    return pd.read_sql(query, connection)\n",
    "\n",
    "# Create connection\n",
    "connection = create_connection()\n",
    "\n",
    "# Fetch table names\n",
    "tables = fetch_all_table_names(connection)\n",
    "\n",
    "# Display the table names\n",
    "print(tables)"
   ]
  },
  {
   "cell_type": "code",
   "execution_count": 6,
   "metadata": {},
   "outputs": [
    {
     "name": "stderr",
     "output_type": "stream",
     "text": [
      "/tmp/ipykernel_93100/1794493925.py:18: UserWarning: pandas only supports SQLAlchemy connectable (engine/connection) or database string URI or sqlite3 DBAPI2 connection. Other DBAPI2 objects are not tested. Please consider using SQLAlchemy.\n",
      "  return pd.read_sql(query, connection)\n"
     ]
    },
    {
     "name": "stdout",
     "output_type": "stream",
     "text": [
      "                       table_name             column_name\n",
      "0               cities_chart_data                    Date\n",
      "1               cities_chart_data                  Cities\n",
      "2               cities_chart_data               City name\n",
      "3               cities_chart_data                   Views\n",
      "4               cities_table_data                  Cities\n",
      "..                            ...                     ...\n",
      "94       viewer_gender_table_data  Watch time (hours) (%)\n",
      "95  viewership_by_date_table_data                    Date\n",
      "96  viewership_by_date_table_data                   Views\n",
      "97  viewership_by_date_table_data      Watch time (hours)\n",
      "98  viewership_by_date_table_data   Average view duration\n",
      "\n",
      "[99 rows x 2 columns]\n"
     ]
    }
   ],
   "source": [
    "# Fetch table names and their columns\n",
    "def fetch_tables_and_columns(connection):\n",
    "    query = \"\"\"\n",
    "    SELECT \n",
    "        t.table_name,\n",
    "        c.column_name\n",
    "    FROM \n",
    "        information_schema.tables t\n",
    "    JOIN \n",
    "        information_schema.columns c\n",
    "    ON \n",
    "        t.table_name = c.table_name\n",
    "    WHERE \n",
    "        t.table_schema = 'public'  -- Or change to your schema\n",
    "    ORDER BY \n",
    "        t.table_name, c.ordinal_position;\n",
    "    \"\"\"\n",
    "    return pd.read_sql(query, connection)\n",
    "\n",
    "# Create connection\n",
    "connection = create_connection()\n",
    "\n",
    "# Fetch tables and their columns\n",
    "tables_and_columns = fetch_tables_and_columns(connection)\n",
    "\n",
    "# Display the result\n",
    "print(tables_and_columns)\n",
    "\n",
    "# Close connection\n",
    "connection.close()\n"
   ]
  }
 ],
 "metadata": {
  "kernelspec": {
   "display_name": "myenv",
   "language": "python",
   "name": "python3"
  },
  "language_info": {
   "codemirror_mode": {
    "name": "ipython",
    "version": 3
   },
   "file_extension": ".py",
   "mimetype": "text/x-python",
   "name": "python",
   "nbconvert_exporter": "python",
   "pygments_lexer": "ipython3",
   "version": "3.12.7"
  }
 },
 "nbformat": 4,
 "nbformat_minor": 2
}
